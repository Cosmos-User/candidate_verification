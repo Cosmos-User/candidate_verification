{
 "cells": [
  {
   "cell_type": "code",
   "execution_count": 6,
   "metadata": {},
   "outputs": [
    {
     "name": "stderr",
     "output_type": "stream",
     "text": [
      "2025-01-28 13:48:09.481039: E external/local_xla/xla/stream_executor/cuda/cuda_fft.cc:477] Unable to register cuFFT factory: Attempting to register factory for plugin cuFFT when one has already been registered\n",
      "WARNING: All log messages before absl::InitializeLog() is called are written to STDERR\n",
      "E0000 00:00:1738072089.497346 1480992 cuda_dnn.cc:8310] Unable to register cuDNN factory: Attempting to register factory for plugin cuDNN when one has already been registered\n",
      "E0000 00:00:1738072089.502594 1480992 cuda_blas.cc:1418] Unable to register cuBLAS factory: Attempting to register factory for plugin cuBLAS when one has already been registered\n",
      "2025-01-28 13:48:09.523767: I tensorflow/core/platform/cpu_feature_guard.cc:210] This TensorFlow binary is optimized to use available CPU instructions in performance-critical operations.\n",
      "To enable the following instructions: AVX2 FMA, in other operations, rebuild TensorFlow with the appropriate compiler flags.\n"
     ]
    }
   ],
   "source": [
    "import os\n",
    "from deepface import DeepFace\n",
    "import cv2\n",
    "from tqdm import tqdm\n",
    "import numpy as np\n",
    "import time"
   ]
  },
  {
   "cell_type": "code",
   "execution_count": 7,
   "metadata": {},
   "outputs": [],
   "source": [
    "model_name = \"Facenet512\"\n",
    "detector_backend = \"mtcnn\""
   ]
  },
  {
   "cell_type": "code",
   "execution_count": 8,
   "metadata": {},
   "outputs": [
    {
     "name": "stderr",
     "output_type": "stream",
     "text": [
      "  0%|          | 0/20 [00:00<?, ?it/s]2025-01-28 13:48:18.143250: E external/local_xla/xla/stream_executor/cuda/cuda_driver.cc:152] failed call to cuInit: INTERNAL: CUDA error: Failed call to cuInit: UNKNOWN ERROR (303)\n",
      " 45%|████▌     | 9/20 [00:15<00:20,  1.85s/it]"
     ]
    },
    {
     "name": "stdout",
     "output_type": "stream",
     "text": [
      "Face could not be detected in /home/playground/candidate_verification/images/Humans/1 (2011).jpg.Please confirm that the picture is a face photo or consider to set enforce_detection param to False.\n"
     ]
    },
    {
     "name": "stderr",
     "output_type": "stream",
     "text": [
      "100%|██████████| 20/20 [00:44<00:00,  2.23s/it]\n"
     ]
    }
   ],
   "source": [
    "embeddings = []\n",
    "file_path = []\n",
    "\n",
    "for dirpath, dirnames, filenames in os.walk(\"/home/playground/candidate_verification/images/Humans\"):\n",
    "   for file in tqdm(filenames[:20]):\n",
    "      try:  \n",
    "            img_path = f\"{dirpath}/{file}\"\n",
    "            result =  DeepFace.represent(img_path = img_path, model_name=\"Facenet512\", detector_backend=\"mtcnn\")            \n",
    "            for r in result:\n",
    "                  if r: \n",
    "                     embeddings.append(r.get(\"embedding\"))\n",
    "                     file_path.append(img_path)      \n",
    "      \n",
    "      except Exception as e:\n",
    "         print(e)\n",
    "               \n",
    "\n"
   ]
  },
  {
   "cell_type": "markdown",
   "metadata": {},
   "source": [
    "#### Qdrant"
   ]
  },
  {
   "cell_type": "code",
   "execution_count": 14,
   "metadata": {},
   "outputs": [],
   "source": [
    "from ast import List\n",
    "import nest_asyncio\n",
    "nest_asyncio.apply()\n",
    "\n",
    "\n",
    "from qdrant_client import AsyncQdrantClient, models\n",
    "from qdrant_client.models import Distance, VectorParams, PointStruct\n",
    "\n",
    "client = AsyncQdrantClient(url=\"http://localhost/\",port=6333)\n",
    "\n",
    "async def create_collection (collection_name):\n",
    "    try:\n",
    "        await client.create_collection(\n",
    "        collection_name=collection_name,\n",
    "        vectors_config=VectorParams(size=512, distance=Distance.EUCLID),\n",
    "        optimizers_config=models.OptimizersConfigDiff(memmap_threshold=20000),\n",
    "        hnsw_config=models.HnswConfigDiff(on_disk=True)\n",
    "        \n",
    "        )\n",
    "         \n",
    "    except Exception as e:\n",
    "        print(e)\n",
    "\n",
    "async def deletect_collection(collection_name):\n",
    "        try:\n",
    "            result = await client.delete_collection(collection_name=f\"{collection_name}\")\n",
    "            return result\n",
    "        except Exception as e:\n",
    "            print(e)\n",
    "\n",
    "async def get_collection_info(collection_name):\n",
    "        try:\n",
    "            result = await client.get_collection(collection_name)\n",
    "            return result    \n",
    "        except Exception as e:\n",
    "            print(e)\n",
    "\n",
    "async def add_point_to_collection(collection_name, point_data):\n",
    "        try:\n",
    "            operation_info = await client.upsert(\n",
    "            collection_name=collection_name,\n",
    "            wait=True,\n",
    "            points=models.Batch(\n",
    "                 vectors=point_data.get('embedding'),\n",
    "                 payloads=point_data.get('payload')\n",
    "            ))\n",
    "\n",
    "            return operation_info\n",
    "        except Exception as e:\n",
    "             print(e)       "
   ]
  },
  {
   "cell_type": "code",
   "execution_count": 3,
   "metadata": {},
   "outputs": [],
   "source": [
    "res = await create_collection(\"face-recognition\")"
   ]
  },
  {
   "cell_type": "code",
   "execution_count": 28,
   "metadata": {},
   "outputs": [],
   "source": [
    "res = await deletect_collection(\"sample_collection\")"
   ]
  },
  {
   "cell_type": "code",
   "execution_count": 10,
   "metadata": {},
   "outputs": [
    {
     "name": "stdout",
     "output_type": "stream",
     "text": [
      "status=<CollectionStatus.GREEN: 'green'> optimizer_status=<OptimizersStatusOneOf.OK: 'ok'> vectors_count=None indexed_vectors_count=0 points_count=0 segments_count=8 config=CollectionConfig(params=CollectionParams(vectors=VectorParams(size=512, distance=<Distance.EUCLID: 'Euclid'>, hnsw_config=None, quantization_config=None, on_disk=None, datatype=None, multivector_config=None), shard_number=1, sharding_method=None, replication_factor=1, write_consistency_factor=1, read_fan_out_factor=None, on_disk_payload=True, sparse_vectors=None), hnsw_config=HnswConfig(m=16, ef_construct=100, full_scan_threshold=10000, max_indexing_threads=0, on_disk=True, payload_m=None), optimizer_config=OptimizersConfig(deleted_threshold=0.2, vacuum_min_vector_number=1000, default_segment_number=0, max_segment_size=None, memmap_threshold=20000, indexing_threshold=20000, flush_interval_sec=5, max_optimization_threads=None), wal_config=WalConfig(wal_capacity_mb=32, wal_segments_ahead=0), quantization_config=None, strict_mode_config=StrictModeConfig(enabled=False, max_query_limit=None, max_timeout=None, unindexed_filtering_retrieve=None, unindexed_filtering_update=None, search_max_hnsw_ef=None, search_allow_exact=None, search_max_oversampling=None, upsert_max_batchsize=None, max_collection_vector_size_bytes=None, read_rate_limit=None, write_rate_limit=None, max_collection_payload_size_bytes=None, filter_max_conditions=None, condition_max_size=None)) payload_schema={}\n"
     ]
    }
   ],
   "source": [
    "res = await get_collection_info(\"face-recognition\")\n",
    "print(res)"
   ]
  },
  {
   "cell_type": "code",
   "execution_count": null,
   "metadata": {},
   "outputs": [],
   "source": []
  },
  {
   "cell_type": "code",
   "execution_count": 15,
   "metadata": {},
   "outputs": [],
   "source": [
    "point_data = {\"embedding\":embeddings,\"payload\":file_path}\n"
   ]
  },
  {
   "cell_type": "code",
   "execution_count": 22,
   "metadata": {},
   "outputs": [
    {
     "data": {
      "text/plain": [
       "(512,)"
      ]
     },
     "execution_count": 22,
     "metadata": {},
     "output_type": "execute_result"
    }
   ],
   "source": [
    "\n",
    "embedding = np.array(point_data.get('embedding')[0])"
   ]
  },
  {
   "cell_type": "code",
   "execution_count": null,
   "metadata": {},
   "outputs": [],
   "source": [
    "point_data"
   ]
  },
  {
   "cell_type": "code",
   "execution_count": null,
   "metadata": {},
   "outputs": [],
   "source": [
    "point_data"
   ]
  },
  {
   "cell_type": "code",
   "execution_count": 17,
   "metadata": {},
   "outputs": [
    {
     "name": "stdout",
     "output_type": "stream",
     "text": [
      "20 validation errors for Batch\n",
      "ids\n",
      "  Field required [type=missing, input_value={'vectors': [[0.194046944...es/Humans/1 (597).jpg']}, input_type=dict]\n",
      "    For further information visit https://errors.pydantic.dev/2.10/v/missing\n",
      "payloads.0\n",
      "  Input should be a valid dictionary [type=dict_type, input_value='/home/playground/candida...ges/Humans/1 (4985).jpg', input_type=str]\n",
      "    For further information visit https://errors.pydantic.dev/2.10/v/dict_type\n",
      "payloads.1\n",
      "  Input should be a valid dictionary [type=dict_type, input_value='/home/playground/candida...ges/Humans/1 (4707).jpg', input_type=str]\n",
      "    For further information visit https://errors.pydantic.dev/2.10/v/dict_type\n",
      "payloads.2\n",
      "  Input should be a valid dictionary [type=dict_type, input_value='/home/playground/candida...ges/Humans/1 (6894).jpg', input_type=str]\n",
      "    For further information visit https://errors.pydantic.dev/2.10/v/dict_type\n",
      "payloads.3\n",
      "  Input should be a valid dictionary [type=dict_type, input_value='/home/playground/candida...ges/Humans/1 (5339).jpg', input_type=str]\n",
      "    For further information visit https://errors.pydantic.dev/2.10/v/dict_type\n",
      "payloads.4\n",
      "  Input should be a valid dictionary [type=dict_type, input_value='/home/playground/candida...ges/Humans/1 (6143).jpg', input_type=str]\n",
      "    For further information visit https://errors.pydantic.dev/2.10/v/dict_type\n",
      "payloads.5\n",
      "  Input should be a valid dictionary [type=dict_type, input_value='/home/playground/candida...ges/Humans/1 (1544).jpg', input_type=str]\n",
      "    For further information visit https://errors.pydantic.dev/2.10/v/dict_type\n",
      "payloads.6\n",
      "  Input should be a valid dictionary [type=dict_type, input_value='/home/playground/candida...ges/Humans/1 (6232).jpg', input_type=str]\n",
      "    For further information visit https://errors.pydantic.dev/2.10/v/dict_type\n",
      "payloads.7\n",
      "  Input should be a valid dictionary [type=dict_type, input_value='/home/playground/candida...ges/Humans/1 (2672).jpg', input_type=str]\n",
      "    For further information visit https://errors.pydantic.dev/2.10/v/dict_type\n",
      "payloads.8\n",
      "  Input should be a valid dictionary [type=dict_type, input_value='/home/playground/candida...ages/Humans/1 (428).jpg', input_type=str]\n",
      "    For further information visit https://errors.pydantic.dev/2.10/v/dict_type\n",
      "payloads.9\n",
      "  Input should be a valid dictionary [type=dict_type, input_value='/home/playground/candida...ges/Humans/1 (1336).jpg', input_type=str]\n",
      "    For further information visit https://errors.pydantic.dev/2.10/v/dict_type\n",
      "payloads.10\n",
      "  Input should be a valid dictionary [type=dict_type, input_value='/home/playground/candida...ges/Humans/1 (1401).jpg', input_type=str]\n",
      "    For further information visit https://errors.pydantic.dev/2.10/v/dict_type\n",
      "payloads.11\n",
      "  Input should be a valid dictionary [type=dict_type, input_value='/home/playground/candida...ages/Humans/1 (664).jpg', input_type=str]\n",
      "    For further information visit https://errors.pydantic.dev/2.10/v/dict_type\n",
      "payloads.12\n",
      "  Input should be a valid dictionary [type=dict_type, input_value='/home/playground/candida...ges/Humans/1 (3464).jpg', input_type=str]\n",
      "    For further information visit https://errors.pydantic.dev/2.10/v/dict_type\n",
      "payloads.13\n",
      "  Input should be a valid dictionary [type=dict_type, input_value='/home/playground/candida...mages/Humans/1 (29).jpg', input_type=str]\n",
      "    For further information visit https://errors.pydantic.dev/2.10/v/dict_type\n",
      "payloads.14\n",
      "  Input should be a valid dictionary [type=dict_type, input_value='/home/playground/candida...ges/Humans/1 (1037).jpg', input_type=str]\n",
      "    For further information visit https://errors.pydantic.dev/2.10/v/dict_type\n",
      "payloads.15\n",
      "  Input should be a valid dictionary [type=dict_type, input_value='/home/playground/candida...ges/Humans/1 (6512).jpg', input_type=str]\n",
      "    For further information visit https://errors.pydantic.dev/2.10/v/dict_type\n",
      "payloads.16\n",
      "  Input should be a valid dictionary [type=dict_type, input_value='/home/playground/candida...ges/Humans/1 (3518).jpg', input_type=str]\n",
      "    For further information visit https://errors.pydantic.dev/2.10/v/dict_type\n",
      "payloads.17\n",
      "  Input should be a valid dictionary [type=dict_type, input_value='/home/playground/candida...ges/Humans/1 (3700).jpg', input_type=str]\n",
      "    For further information visit https://errors.pydantic.dev/2.10/v/dict_type\n",
      "payloads.18\n",
      "  Input should be a valid dictionary [type=dict_type, input_value='/home/playground/candida...ages/Humans/1 (597).jpg', input_type=str]\n",
      "    For further information visit https://errors.pydantic.dev/2.10/v/dict_type\n",
      "None\n"
     ]
    }
   ],
   "source": [
    "res = await add_point_to_collection(\"face-recognition\", point_data)\n",
    "print(res)"
   ]
  },
  {
   "cell_type": "code",
   "execution_count": null,
   "metadata": {},
   "outputs": [],
   "source": []
  }
 ],
 "metadata": {
  "kernelspec": {
   "display_name": ".venv",
   "language": "python",
   "name": "python3"
  },
  "language_info": {
   "codemirror_mode": {
    "name": "ipython",
    "version": 3
   },
   "file_extension": ".py",
   "mimetype": "text/x-python",
   "name": "python",
   "nbconvert_exporter": "python",
   "pygments_lexer": "ipython3",
   "version": "3.11.9"
  }
 },
 "nbformat": 4,
 "nbformat_minor": 2
}
